{
 "cells": [
  {
   "cell_type": "code",
   "execution_count": 20,
   "metadata": {},
   "outputs": [],
   "source": [
    "import pandas as pd\n",
    "import numpy as np\n",
    "from sklearn import utils \n",
    "from glob import glob"
   ]
  },
  {
   "cell_type": "code",
   "execution_count": 21,
   "metadata": {},
   "outputs": [],
   "source": [
    "train = pd.read_csv('./dataset/train.csv',header=None)\n",
    "x_train = np.array(train.iloc[:, 0:9])        \n",
    "y_train = np.array(train.iloc[:,10])"
   ]
  },
  {
   "cell_type": "code",
   "execution_count": 22,
   "metadata": {},
   "outputs": [],
   "source": [
    "test = pd.read_csv('./dataset/test.csv',header=None)\n",
    "x_test = np.array(test.iloc[:, 0:9])        \n",
    "y_test = np.array(test.iloc[:,10])"
   ]
  },
  {
   "cell_type": "code",
   "execution_count": 23,
   "metadata": {},
   "outputs": [
    {
     "output_type": "execute_result",
     "data": {
      "text/plain": [
       "RandomForestClassifier()"
      ]
     },
     "metadata": {},
     "execution_count": 23
    }
   ],
   "source": [
    "from sklearn.ensemble import RandomForestClassifier \n",
    "rfc = RandomForestClassifier(n_estimators=100)                                 \n",
    "rfc.fit(x_train, y_train) "
   ]
  },
  {
   "cell_type": "code",
   "execution_count": 24,
   "metadata": {},
   "outputs": [],
   "source": [
    "from sklearn.metrics import accuracy_score                \n",
    "from sklearn.metrics import f1_score\n",
    "from sklearn.metrics import recall_score"
   ]
  },
  {
   "cell_type": "code",
   "execution_count": 25,
   "metadata": {},
   "outputs": [],
   "source": [
    "model_output=rfc.predict(x_test)   "
   ]
  },
  {
   "cell_type": "code",
   "execution_count": 26,
   "metadata": {},
   "outputs": [
    {
     "output_type": "stream",
     "name": "stdout",
     "text": [
      "[  0   0   0 ... 100 100 100]\n[  0   0   0 ... 100 100 100]\n"
     ]
    }
   ],
   "source": [
    "print(model_output)\n",
    "print(y_test)"
   ]
  },
  {
   "cell_type": "code",
   "execution_count": 27,
   "metadata": {},
   "outputs": [
    {
     "output_type": "stream",
     "name": "stdout",
     "text": [
      "Accuracy = 99.9165 \nF1 Score = 0.9992 \nRecall Score = 0.9992 \n"
     ]
    }
   ],
   "source": [
    "print(\"Accuracy = %.4f \"%(accuracy_score(y_test, model_output,normalize=True)*100))\n",
    "print(\"F1 Score = %.4f \"%f1_score(y_test, model_output,average='weighted') )\n",
    "print(\"Recall Score = %.4f \"%recall_score(y_test, model_output, average='weighted') )"
   ]
  },
  {
   "cell_type": "code",
   "execution_count": 31,
   "metadata": {},
   "outputs": [],
   "source": [
    "def perf_measure(y_actual, y_hat):\n",
    "    T = 0\n",
    "    F = 0\n",
    "    TP = 0\n",
    "    FP = 0\n",
    "    TN = 0\n",
    "    FN = 0\n",
    "\n",
    "    for i in range(len(y_hat)):\n",
    "        if y_actual[i] == y_hat[i]:\n",
    "            T+=1\n",
    "        if y_actual[i] != y_hat[i]:\n",
    "            F+=1\n",
    "        if y_actual[i] == 0 and y_hat[i] == 100:\n",
    "            FP += 1\n",
    "        if y_actual[i] == 100 and y_hat[i] == 100:\n",
    "            TP += 1\n",
    "        if y_actual[i] == 0 and y_hat[i] == 0:\n",
    "            TN += 1\n",
    "        if y_actual[i] == 100 and y_hat[i] == 0:\n",
    "            FN += 1\n",
    "    return (TP, FP,TN, FN)"
   ]
  },
  {
   "cell_type": "code",
   "execution_count": 32,
   "metadata": {},
   "outputs": [],
   "source": [
    "TP, FP, TN, FN = perf_measure(y_actual=y_test, y_hat=model_output)"
   ]
  },
  {
   "cell_type": "code",
   "execution_count": 33,
   "metadata": {},
   "outputs": [
    {
     "output_type": "stream",
     "name": "stdout",
     "text": [
      "0.9585798816568047\n"
     ]
    }
   ],
   "source": [
    "sensitivity = TP / (TP + FN)\n",
    "print(sensitivity)"
   ]
  },
  {
   "cell_type": "code",
   "execution_count": 34,
   "metadata": {},
   "outputs": [
    {
     "output_type": "stream",
     "name": "stdout",
     "text": [
      "1.0\n"
     ]
    }
   ],
   "source": [
    "specificity = TN / (TN + FP)\n",
    "print(specificity)"
   ]
  },
  {
   "cell_type": "code",
   "execution_count": 35,
   "metadata": {},
   "outputs": [
    {
     "output_type": "stream",
     "name": "stdout",
     "text": [
      "1.0\n"
     ]
    }
   ],
   "source": [
    "precision = TP / (TP + FP)\n",
    "print(precision)"
   ]
  },
  {
   "cell_type": "code",
   "execution_count": 36,
   "metadata": {},
   "outputs": [
    {
     "output_type": "stream",
     "name": "stdout",
     "text": [
      "0.9788519637462235\n"
     ]
    }
   ],
   "source": [
    "F1 = 2 * (precision * sensitivity) / (precision + sensitivity)\n",
    "print(F1)"
   ]
  }
 ],
 "metadata": {
  "kernelspec": {
   "display_name": "Python 3",
   "language": "python",
   "name": "python3"
  },
  "language_info": {
   "codemirror_mode": {
    "name": "ipython",
    "version": 3
   },
   "file_extension": ".py",
   "mimetype": "text/x-python",
   "name": "python",
   "nbconvert_exporter": "python",
   "pygments_lexer": "ipython3",
   "version": "3.8.5-final"
  }
 },
 "nbformat": 4,
 "nbformat_minor": 4
}