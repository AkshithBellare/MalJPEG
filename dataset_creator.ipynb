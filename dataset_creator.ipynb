{
 "metadata": {
  "language_info": {
   "codemirror_mode": {
    "name": "ipython",
    "version": 3
   },
   "file_extension": ".py",
   "mimetype": "text/x-python",
   "name": "python",
   "nbconvert_exporter": "python",
   "pygments_lexer": "ipython3",
   "version": "3.8.8-final"
  },
  "orig_nbformat": 2,
  "kernelspec": {
   "name": "python388jvsc74a57bd0dec3c79e85b9f692d1dc4951e8460895c848f86688fd89aa51599cbed10d0eba",
   "display_name": "Python 3.8.8 64-bit ('maljpeg': conda)"
  },
  "metadata": {
   "interpreter": {
    "hash": "dec3c79e85b9f692d1dc4951e8460895c848f86688fd89aa51599cbed10d0eba"
   }
  }
 },
 "nbformat": 4,
 "nbformat_minor": 2,
 "cells": [
  {
   "cell_type": "code",
   "execution_count": 40,
   "metadata": {},
   "outputs": [],
   "source": [
    "import pandas as pd\n",
    "import numpy as np\n",
    "from sklearn.model_selection import train_test_split\n",
    "from sklearn.utils import shuffle"
   ]
  },
  {
   "cell_type": "code",
   "execution_count": 41,
   "metadata": {},
   "outputs": [],
   "source": [
    "data_dir = \"./dataset/\""
   ]
  },
  {
   "cell_type": "code",
   "execution_count": 42,
   "metadata": {},
   "outputs": [],
   "source": [
    "benign_path = \"./dataset/benign_features.csv\"\n",
    "malicious_path = \"./dataset/malicious_features.csv\""
   ]
  },
  {
   "cell_type": "code",
   "execution_count": 43,
   "metadata": {},
   "outputs": [],
   "source": [
    "df_benign = pd.read_csv(benign_path, skiprows=1, header=None)\n",
    "train_benign, test_benign = train_test_split(df_benign, test_size=0.25, random_state=42, shuffle=True)"
   ]
  },
  {
   "cell_type": "code",
   "execution_count": 44,
   "metadata": {},
   "outputs": [],
   "source": [
    "df_malicious = pd.read_csv(malicious_path, skiprows=1, header=None)\n",
    "train_malicious, test_malicious = train_test_split(df_malicious, test_size=0.25, random_state=42, shuffle=True)"
   ]
  },
  {
   "cell_type": "code",
   "execution_count": 45,
   "metadata": {},
   "outputs": [],
   "source": [
    "train = pd.concat([train_benign, train_malicious])\n",
    "test = pd.concat([test_benign, test_malicious])"
   ]
  },
  {
   "cell_type": "code",
   "execution_count": 46,
   "metadata": {},
   "outputs": [],
   "source": [
    "train = shuffle(train)\n",
    "test = shuffle(test)"
   ]
  },
  {
   "cell_type": "code",
   "execution_count": 47,
   "metadata": {},
   "outputs": [],
   "source": [
    "train.to_csv(\"./dataset/train.csv\", header=None, index=None)\n",
    "test.to_csv(\"./dataset/test.csv\", header=None, index=None)\n"
   ]
  }
 ]
}