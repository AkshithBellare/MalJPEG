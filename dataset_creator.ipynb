{
 "cells": [
  {
   "cell_type": "code",
   "execution_count": 1,
   "metadata": {},
   "outputs": [],
   "source": [
    "import pandas as pd\n",
    "import numpy as np\n",
    "import glob "
   ]
  },
  {
   "cell_type": "code",
   "execution_count": 7,
   "metadata": {},
   "outputs": [],
   "source": [
    "path_benign=\"/home/axebell/Desktop/theOne/MalJPEG/dataset/benign_features.csv\" #update the paths here \n",
    "path_malicious=\"/home/axebell/Desktop/theOne/MalJPEG/dataset/malicious_features.csv\""
   ]
  },
  {
   "cell_type": "code",
   "execution_count": 9,
   "metadata": {},
   "outputs": [],
   "source": [
    "df_benign =pd.read_csv(path_benign,header=None) \n",
    "df_benign=df_benign.iloc[1:,]\n",
    "train_benign, test_benign = np.split(df_benign.sample(frac=1), [int(.75*len(df_benign))]) "
   ]
  },
  {
   "cell_type": "code",
   "execution_count": 10,
   "metadata": {},
   "outputs": [],
   "source": [
    "df_malicious =pd.read_csv(path_malicious,header=None) \n",
    "df_malicious=df_malicious.iloc[1:,]\n",
    "train_malicious, test_malicious = np.split(df_malicious.sample(frac=1), [int(.75*len(df_malicious))]) "
   ]
  },
  {
   "cell_type": "code",
   "execution_count": 11,
   "metadata": {},
   "outputs": [],
   "source": [
    "train=np.concatenate((train_benign,train_malicious),axis=0)\n",
    "test=np.concatenate((test_benign,test_malicious),axis=0)"
   ]
  },
  {
   "cell_type": "code",
   "execution_count": 12,
   "metadata": {},
   "outputs": [],
   "source": [
    "pd.DataFrame(train).to_csv(\"train.csv\",header=None,index=None)\n",
    "pd.DataFrame(test).to_csv(\"test.csv\",header=None,index=None)"
   ]
  }
 ],
 "metadata": {
  "kernelspec": {
   "display_name": "Python 3",
   "language": "python",
   "name": "python3"
  },
  "language_info": {
   "codemirror_mode": {
    "name": "ipython",
    "version": 3
   },
   "file_extension": ".py",
   "mimetype": "text/x-python",
   "name": "python",
   "nbconvert_exporter": "python",
   "pygments_lexer": "ipython3",
   "version": "3.8.3"
  }
 },
 "nbformat": 4,
 "nbformat_minor": 4
}
